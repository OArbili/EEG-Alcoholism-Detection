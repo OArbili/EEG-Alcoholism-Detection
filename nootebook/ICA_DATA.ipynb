{
 "cells": [
  {
   "cell_type": "code",
   "execution_count": 1,
   "id": "0a5d5fef",
   "metadata": {},
   "outputs": [],
   "source": [
    "import mne\n",
    "import pandas as pd\n",
    "import numpy as np\n",
    "def get_ica(signal, mode='sources'):\n",
    "    \"\"\"\n",
    "    mode: \n",
    "        sources - projected components x signal (64x265)\n",
    "        components - ICA components (64x64)\n",
    "    \"\"\";\n",
    "    \n",
    "    # define channels\n",
    "    channel_list = ['AF1', 'AF2', 'AF7', 'AF8', 'AFZ', 'C1', 'C2', 'C3', 'C4', 'C5', 'C6', 'CP1', 'CP2', 'CP3', 'CP4', 'CP5', 'CP6', 'CPZ', 'CZ', 'F1', 'F2', 'F3', 'F4', 'F5', 'F6', 'F7', 'F8', 'FC1', 'FC2', 'FC3', 'FC4', 'FC5', 'FC6', 'FCZ', 'FP1', 'FP2', 'FPZ', 'FT7', 'FT8', 'FZ', 'O1', 'O2', 'OZ', 'P1', 'P2', 'P3', 'P4', 'P5', 'P6', 'P7', 'P8', 'PO1', 'PO2', 'PO7', 'PO8', 'POZ', 'PZ', 'T7', 'T8', 'TP7', 'TP8', 'X', 'Y', 'nd']\n",
    "    \n",
    "    # create mne raw object\n",
    "    info = mne.create_info(channel_list, 256, ch_types='eeg', verbose=False)\n",
    "    raw = mne.io.RawArray(data=signal, info=info, verbose=False)\n",
    "\n",
    "    # filter signal\n",
    "#     raw.filter(l_freq=1., h_freq=None, verbose=False);\n",
    "\n",
    "    # run ica\n",
    "    ica = mne.preprocessing.ICA(n_components=64, verbose=False)\n",
    "    ica.fit(raw, picks=channel_list);\n",
    "    \n",
    "    if mode == 'sources':\n",
    "        return ica.get_sources(raw).get_data()\n",
    "    elif mode == 'components':\n",
    "        return norm_min_max(ica.get_components())\n",
    "    else:\n",
    "        raise NotImplementedError"
   ]
  },
  {
   "cell_type": "code",
   "execution_count": 2,
   "id": "7262a899",
   "metadata": {},
   "outputs": [],
   "source": [
    "train = pd.read_csv(\"/sise/liorrk-group/OrDanOfir/eeg/data/img_train.csv\")"
   ]
  },
  {
   "cell_type": "code",
   "execution_count": 3,
   "id": "41445d54",
   "metadata": {},
   "outputs": [],
   "source": [
    "from joblib import Parallel, delayed\n",
    "from tqdm import tqdm\n",
    "import warnings\n",
    "warnings.filterwarnings(\"ignore\")\n",
    "def save(row):\n",
    "    img = np.load(row)['img']\n",
    "    ica = get_ica(img[:,:,0].T).T\n",
    "    image = img.copy()\n",
    "    image[:,:,0] = ica\n",
    "    np.savez_compressed(row.replace(\"/images/\",\"/images_ica/\"),img=img,ica=image)"
   ]
  },
  {
   "cell_type": "code",
   "execution_count": 1,
   "id": "f9cef7e2",
   "metadata": {},
   "outputs": [],
   "source": [
    "%%time\n",
    "_ = Parallel(n_jobs=16)(delayed(save)(row) for row in tqdm(train.path))"
   ]
  },
  {
   "cell_type": "code",
   "execution_count": 5,
   "id": "0f487303",
   "metadata": {},
   "outputs": [],
   "source": [
    "\n",
    "# for row in tqdm(train.path):\n",
    "#     img = np.load(row)['img']\n",
    "#     ica = get_ica(img[:,:,0].T).T\n",
    "#     image = img.copy()\n",
    "#     image[:,:,0] = ica\n",
    "#     np.savez_compressed(row.replace(\"/images/\",\"/images_ica/\"),img=img,ica=image)\n",
    "    "
   ]
  }
 ],
 "metadata": {
  "kernelspec": {
   "display_name": "Python (mmdet)",
   "language": "python",
   "name": "mmdet"
  },
  "language_info": {
   "codemirror_mode": {
    "name": "ipython",
    "version": 3
   },
   "file_extension": ".py",
   "mimetype": "text/x-python",
   "name": "python",
   "nbconvert_exporter": "python",
   "pygments_lexer": "ipython3",
   "version": "3.7.10"
  }
 },
 "nbformat": 4,
 "nbformat_minor": 5
}
